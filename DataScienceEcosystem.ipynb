{
 "cells": [
  {
   "cell_type": "markdown",
   "id": "77eff2bf-0586-4bc4-af63-61aed789b598",
   "metadata": {
    "tags": []
   },
   "source": [
    "# Data Science Tools and Ecosystem"
   ]
  },
  {
   "cell_type": "markdown",
   "id": "75a8e3fb-cf8e-4bdb-ae9b-38535e07c7b9",
   "metadata": {},
   "source": [
    "In this notebook, Data Science Tools and Ecosystem are summarized."
   ]
  },
  {
   "cell_type": "markdown",
   "id": "378fdac9-79d3-4220-9a42-01f6ba01948c",
   "metadata": {},
   "source": [
    "<b>Objectives : </b>\n",
    "\n",
    "Some of the uses of Data Science are:\n",
    "\n",
    "<ul>\n",
    "<li>Predictive Analysis</li>\n",
    "<li>Machine Learning</li>\n",
    "<li>Data Visualisation</li>\n",
    "</ul>"
   ]
  },
  {
   "cell_type": "markdown",
   "id": "fe9ada89-d5a6-42ff-9858-6bd7c3ca1df3",
   "metadata": {},
   "source": [
    "Some of the popular languages that Data Scientists use are:\n",
    "    \n",
    "<ol>\n",
    "<li>Python</li>\n",
    "<li>R</li>\n",
    "<li>SQL</li>\n",
    "</ol>"
   ]
  },
  {
   "cell_type": "markdown",
   "id": "dea86a82-7001-4fb7-9369-fa3ce6e10393",
   "metadata": {},
   "source": [
    "Some of the commonly used libraries used by Data Scientists include:\n",
    "\n",
    "<ol>\n",
    "<li>NumPy</li>\n",
    "<li>Keras</li>\n",
    "<li>Pandas</li>\n",
    "</ol>"
   ]
  },
  {
   "cell_type": "markdown",
   "id": "75de13bd-284b-456a-8920-5eae77eaa303",
   "metadata": {},
   "source": [
    "Data Science Tools\n",
    "|Names | \n",
    "| --- |\n",
    "| RStudio|\n",
    "| Apache Spark | \n",
    "| TensorFlow |     "
   ]
  },
  {
   "cell_type": "markdown",
   "id": "948ee49e-ff35-4807-8b15-f29853b42b7c",
   "metadata": {},
   "source": [
    "### Below are a few examples of evaluating arithmetic expressions in Python"
   ]
  },
  {
   "cell_type": "raw",
   "id": "f6a8a876-a05d-4f45-8b67-8de8dd5526b6",
   "metadata": {},
   "source": [
    "This a simple arithmetic expression to mutiply then add integers"
   ]
  },
  {
   "cell_type": "code",
   "execution_count": 37,
   "id": "8403aa3d-5667-41f8-a685-9b884242d0cd",
   "metadata": {},
   "outputs": [
    {
     "data": {
      "text/plain": [
       "17"
      ]
     },
     "execution_count": 37,
     "metadata": {},
     "output_type": "execute_result"
    }
   ],
   "source": [
    "(3*4)+5"
   ]
  },
  {
   "cell_type": "raw",
   "id": "1abe0e90-5d94-4758-9d8c-409131cd0b39",
   "metadata": {},
   "source": [
    "This will convert 200 minutes to hours by diving by 60"
   ]
  },
  {
   "cell_type": "code",
   "execution_count": 39,
   "id": "c9f4224a-f01d-4c8a-a024-9700c93614ad",
   "metadata": {},
   "outputs": [
    {
     "data": {
      "text/plain": [
       "3.3333333333333335"
      ]
     },
     "execution_count": 39,
     "metadata": {},
     "output_type": "execute_result"
    }
   ],
   "source": [
    "200/60"
   ]
  },
  {
   "cell_type": "markdown",
   "id": "dfac99cb-49ac-42bb-90c6-a9a137e28092",
   "metadata": {},
   "source": [
    "## Author\n",
    "Ali Siddiqi"
   ]
  },
  {
   "cell_type": "code",
   "execution_count": null,
   "id": "cd0d2639-4272-4975-9b51-221ea830ee30",
   "metadata": {},
   "outputs": [],
   "source": []
  }
 ],
 "metadata": {
  "kernelspec": {
   "display_name": "anaconda-panel-2023.05-py310",
   "language": "python",
   "name": "conda-env-anaconda-panel-2023.05-py310-py"
  },
  "language_info": {
   "codemirror_mode": {
    "name": "ipython",
    "version": 3
   },
   "file_extension": ".py",
   "mimetype": "text/x-python",
   "name": "python",
   "nbconvert_exporter": "python",
   "pygments_lexer": "ipython3",
   "version": "3.11.5"
  }
 },
 "nbformat": 4,
 "nbformat_minor": 5
}
